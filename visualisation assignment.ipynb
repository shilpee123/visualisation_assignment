{
 "cells": [
  {
   "cell_type": "markdown",
   "id": "f0ead9f1-2b73-4cfd-b1b6-cc6c691f2a08",
   "metadata": {},
   "source": [
    "  1. Create a scatter plot using Matplotlib to visualize the relationship between two arrays, x and y for the given  data.\n"
   ]
  },
  {
   "cell_type": "code",
   "execution_count": null,
   "id": "57e9cc04-abe6-45aa-b501-cd1595dc85d5",
   "metadata": {},
   "outputs": [],
   "source": [
    "import matplotlib.pyplot as plt\n",
    "\n",
    "x = [1, 2, 3, 4, 5, 6, 7, 8, 9, 10]\n",
    "y = [2, 4, 5, 7, 6, 8, 9, 10, 12, 13]\n",
    "colors=[10,49,30,29,56,20,30,50,35,67]\n",
    "sizes=[65,180,48,74,200,92,250,77,84,100]\n",
    "plt.xlabel(\"x axis\", fontsize=10)\n",
    "plt.ylabel(\"y axis\", fontsize=10)\n",
    "plt.title(\"Scatter Plot\",  fontsize=15)\n",
    "plt.scatter(x,y, c=colors,s=sizes,marker=\"*\",cmap=\"viridis\" )\n",
    "t=plt.colorbar()\n",
    "t.set_label(\"colorbar\",fontsize=15)\n",
    "plt.show()\n"
   ]
  },
  {
   "cell_type": "markdown",
   "id": "b7c49ad8-65ed-49e5-aaf8-bcee63ac67ae",
   "metadata": {},
   "source": [
    " 2. Generate a line plot to visualize the trend of values for the given data.\n",
    "    data = np.array([3, 7, 9, 15, 22, 29, 35]"
   ]
  },
  {
   "cell_type": "code",
   "execution_count": null,
   "id": "94a7916e-6753-4d09-a7ca-9f50c055f404",
   "metadata": {},
   "outputs": [],
   "source": [
    "import matplotlib.pyplot as plt\n",
    "import numpy as np\n",
    "data = np.array([3, 7, 9, 15, 22, 29, 35])\n",
    "\n",
    "plt.plot(data, marker=\"*\", markersize=9, color=\"green\")\n",
    "plt.xlabel(\"Index\")\n",
    "plt.ylabel(\"value\")\n",
    "plt.title(\"Data Values\")\n",
    "plt.show()                \n",
    "\n",
    "\n",
    "                \n",
    "                "
   ]
  },
  {
   "cell_type": "markdown",
   "id": "ef862dec-5fa1-4fd6-8ba4-c826912074a5",
   "metadata": {},
   "source": [
    " 3. Display a bar chart to represent the frequency of each item in the given array categories.\n",
    " categories = ['A', 'B', 'C', 'D', 'E'] ",
    "\n",
    " values = [25, 40, 30, 35, 20]"
   ]
  },
  {
   "cell_type": "code",
   "execution_count": null,
   "id": "00d20616-80da-47f2-9fe3-130c3c8ddb99",
   "metadata": {},
   "outputs": [],
   "source": [
    "import matplotlib.pyplot as plt\n",
    "categories = ['A', 'B', 'C', 'D', 'E']\n",
    "values = [25, 40, 30, 35, 20]\n",
    "c=[\"red\", \"green\", \"pink\", \"yellow\", \"skyblue\"]\n",
    "plt.bar(categories, values, color=c,width=0.4,align=\"edge\", edgecolor=\"black\", linewidth=2, linestyle=\":\", alpha=0.4, label=\"PW SKILLS\" )\n",
    "plt.xlabel('Categories', fontsize=15)\n",
    "plt.ylabel('Frequency', fontsize=15)\n",
    "plt.title('Frequency of Each Category', fontsize=20)\n",
    "plt.legend()\n",
    "plt.show()\n"
   ]
  },
  {
   "cell_type": "markdown",
   "id": "fbd709ee-0647-431b-b4fc-0bec0e9759cb",
   "metadata": {},
   "source": [
    " 4. Create a histogram to visualize the distribution of values in the array data.\n",
    " data = np.random.normal(0, 1, 1000)"
   ]
  },
  {
   "cell_type": "code",
   "execution_count": null,
   "id": "03786a55-a0ce-41e1-bcf0-d90b4cdcec90",
   "metadata": {},
   "outputs": [],
   "source": [
    "import matplotlib.pyplot as plt\n",
    "import numpy as np\n",
    "data = np.random.normal(0, 1, 1000)\n",
    "plt.hist(data, bins=20, edgecolor=\"green\", color=\"r\")\n",
    "plt.xlabel(\"Value\")\n",
    "plt.ylabel(\"Frequency\")\n",
    "plt.title(\"Normally Distribution Data\")\n",
    "plt.show()\n",
    "\n",
    "\n",
    "\n",
    "\n"
   ]
  },
  {
   "cell_type": "markdown",
   "id": "01b658eb-d25f-4796-9369-d816ce571643",
   "metadata": {},
   "source": [
    "5. Show a pie chart to represent the percentage distribution of different sections in the array `sections`.\n",
    "  sections = ['Section A', 'Section B', 'Section C', 'Section D'] ",
    "\n",
    "  sizes = [25, 30, 15, 30]"
   ]
  },
  {
   "cell_type": "code",
   "execution_count": null,
   "id": "535a82bd-96c9-48ee-afc7-8c0e4ee97e8c",
   "metadata": {},
   "outputs": [],
   "source": [
    "import matplotlib.pyplot as plt\n",
    "\n",
    "sections = ['Section A', 'Section B', 'Section C', 'Section D']\n",
    "sizes = [25, 30, 15, 30]\n",
    "c=[\"r\",\"b\",\"g\",\"y\"]\n",
    "plt.pie(sizes, labels=sections, autopct=\"%1.1f%%\", startangle=90, colors=c)\n",
    "plt.axis(\"equal\")\n",
    "plt.title(\"Percentage Distribution of Sections\")\n",
    "plt.show()"
   ]
  },
  {
   "cell_type": "markdown",
   "id": "5db42d41-0f46-4e10-8724-03275c962826",
   "metadata": {},
   "source": [
    "                                          SEABORN "
   ]
  },
  {
   "cell_type": "markdown",
   "id": "d3078698-f6ed-4e50-93b3-96e2995d9bdc",
   "metadata": {},
   "source": [
    " 1. Create a scatter plot to visualize the relationship between two variables, by generating a synthetic \n",
    "dataset."
   ]
  },
  {
   "cell_type": "code",
   "execution_count": null,
   "id": "a16e6cb8-e15b-4565-a690-239b1845add1",
   "metadata": {},
   "outputs": [],
   "source": [
    "import numpy as np\n",
    "import seaborn as sns\n",
    "import matplotlib.pyplot as plt\n",
    "\n",
    "\n",
    "np.random.seed(0)  \n",
    "x = np.random.rand(100) * 100  \n",
    "y = x * 2 + np.random.randn(100) * 10 \n",
    "\n",
    "\n",
    "sns.set(style=\"whitegrid\")\n",
    "plt.figure(figsize=(8, 6))\n",
    "sns.scatterplot(x=x, y=y, color='blue', alpha=0.8)\n",
    "\n",
    "plt.title('Scatter Plot: Relationship between X and Y')\n",
    "plt.xlabel('X variable')\n",
    "plt.ylabel('Y variable')\n",
    "plt.show()\n"
   ]
  },
  {
   "cell_type": "markdown",
   "id": "405fbea6-c2f9-4e9d-8dce-e85caebc1b8c",
   "metadata": {},
   "source": [
    "2. Generate a dataset of random numbers. Visualize the distribution of a numerical variable."
   ]
  },
  {
   "cell_type": "code",
   "execution_count": null,
   "id": "6b0a633f-fa91-4946-b36b-f6e74d7314eb",
   "metadata": {},
   "outputs": [],
   "source": [
    "import numpy as np\n",
    "import seaborn as sns\n",
    "import matplotlib.pyplot as plt\n",
    "\n",
    "\n",
    "data = np.random.randn(1000) \n",
    "\n",
    "\n",
    "sns.set(style=\"whitegrid\")\n",
    "plt.figure(figsize=(6, 4))\n",
    "sns.histplot(data, bins=40, color='yellow', kde=True)  \n",
    "plt.title('Distribution of Random Numerical Variable')\n",
    "plt.xlabel('Value')\n",
    "plt.ylabel('Frequency')\n",
    "plt.show()\n"
   ]
  },
  {
   "cell_type": "markdown",
   "id": "1a1f7443-c5cd-4ffa-83ea-a9a0c4c5e4bc",
   "metadata": {},
   "source": [
    " 3. Create a dataset representing categories and their corresponding values. Compare different categories \n",
    "based on numerical values."
   ]
  },
  {
   "cell_type": "code",
   "execution_count": null,
   "id": "a4e0b798-815e-4eed-92e4-ff7b9d24fe73",
   "metadata": {},
   "outputs": [],
   "source": [
    "import pandas as pd\n",
    "import seaborn as sns\n",
    "import matplotlib.pyplot as plt\n",
    "\n",
    "\n",
    "categories = ['Category A', 'Category B', 'Category C', 'Category D']\n",
    "values = [30, 85, 55, 70]\n",
    "\n",
    "\n",
    "data = pd.DataFrame({'Category': categories, 'Value': values})\n",
    "\n",
    "\n",
    "sns.set(style=\"whitegrid\")\n",
    "plt.figure(figsize=(6, 4))\n",
    "sns.barplot(x='Category', y='Value', data=data, palette='muted',width=0.4)\n",
    "\n",
    "plt.title('Comparison of Categories Based on Numerical Values')\n",
    "plt.xlabel('Category')\n",
    "plt.ylabel('Value')\n",
    "plt.show()\n"
   ]
  },
  {
   "cell_type": "markdown",
   "id": "bb55fc1d-dce6-45e7-bb7b-b78a6b3290ed",
   "metadata": {},
   "source": [
    " 4. Generate a dataset with categories and numerical values. Visualize the distribution of a numerical \n",
    "variable across different categories."
   ]
  },
  {
   "cell_type": "code",
   "execution_count": null,
   "id": "9593de1f-8cdc-459a-a3cf-3c4f1a61f726",
   "metadata": {},
   "outputs": [],
   "source": [
    "import numpy as np\n",
    "import pandas as pd\n",
    "import seaborn as sns\n",
    "import matplotlib.pyplot as plt\n",
    "\n",
    "\n",
    "np.random.seed(42)\n",
    "categories = np.random.choice(['Category A', 'Category B', 'Category C'], 200)\n",
    "values = np.random.randn(200) * 10 + 50  \n",
    "\n",
    "\n",
    "data = pd.DataFrame({'Category': categories, 'Value': values})\n",
    "\n",
    "\n",
    "plt.figure(figsize=(8, 6))\n",
    "sns.set(style=\"whitegrid\")\n",
    "sns.boxplot(x='Category', y='Value', data=data, palette='Set2',width=0.4)\n",
    "\n",
    "plt.title('Distribution of Numerical Values Across Categories')\n",
    "plt.xlabel('Category')\n",
    "plt.ylabel('Value')\n",
    "plt.show()\n"
   ]
  },
  {
   "cell_type": "markdown",
   "id": "0632fb24-d095-4c85-b753-e42a6d74205c",
   "metadata": {},
   "source": [
    " 5. Generate a synthetic dataset with correlated features. Visualize the correlation matrix of a dataset using a \n",
    "heatmap."
   ]
  },
  {
   "cell_type": "code",
   "execution_count": null,
   "id": "7d18ee79-23ae-4387-ab77-4c858c914bb2",
   "metadata": {},
   "outputs": [],
   "source": [
    "import numpy as np\n",
    "import pandas as pd\n",
    "import seaborn as sns\n",
    "import matplotlib.pyplot as plt\n",
    "\n",
    "\n",
    "np.random.seed(42)\n",
    "n = 100  \n",
    "\n",
    "\n",
    "feature_1 = np.random.randn(n)\n",
    "feature_2 = feature_1 * 0.8 + np.random.randn(n) * 0.2  \n",
    "feature_3 = feature_1 * -0.5 + np.random.randn(n) * 0.3 \n",
    "feature_4 = np.random.randn(n) \n",
    "\n",
    "data = pd.DataFrame({\n",
    "    'Feature 1': feature_1,\n",
    "    'Feature 2': feature_2,\n",
    "    'Feature 3': feature_3,\n",
    "    'Feature 4': feature_4\n",
    "})\n",
    "\n",
    "\n",
    "corr_matrix = data.corr()\n",
    "\n",
    "\n",
    "plt.figure(figsize=(8, 6))\n",
    "sns.set(style=\"whitegrid\")\n",
    "sns.heatmap(corr_matrix, annot=True, cmap='coolwarm', linewidths=0.5)\n",
    "\n",
    "plt.title('Correlation Matrix Heatmap')\n",
    "plt.show()\n"
   ]
  },
  {
   "cell_type": "markdown",
   "id": "441dc8f7-f945-439a-ad91-126527a2c7b4",
   "metadata": {},
   "source": [
    "                                                        PLOTLY"
   ]
  },
  {
   "cell_type": "markdown",
   "id": "2a87ccdd-0699-495a-a484-12407937e29e",
   "metadata": {},
   "source": [
    " 1. Using the given dataset, to generate a 3D scatter plot to visualize the distribution of data points in a three\n",
    "dimensional space.\n",
    " np.random.seed(30) ",
    "\n",
    " data = { ",
    "\n",
    " 'X': np.random.uniform(-10, 10, 300), ",
    "\n",
    " 'Y': np.random.uniform(-10, 10, 300), ",
    "\n",
    " 'Z': np.random.uniform(-10, 10, 300) ",
    "\n",
    " }\n",
    "  ",
    "\n",
    " df = pd.DataFrame(data)"
   ]
  },
  {
   "cell_type": "code",
   "execution_count": null,
   "id": "2cd46ba0-8f9c-4275-8cd9-055186b5b71f",
   "metadata": {},
   "outputs": [],
   "source": [
    "import numpy as np\n",
    "import pandas as pd\n",
    "import plotly.express as px\n",
    "\n",
    "\n",
    "np.random.seed(30)\n",
    "\n",
    "\n",
    "data = {\n",
    "    'X': np.random.uniform(-10, 10, 300),\n",
    "    'Y': np.random.uniform(-10, 10, 300),\n",
    "    'Z': np.random.uniform(-10, 10, 300)\n",
    "}\n",
    "\n",
    "df = pd.DataFrame(data)\n",
    "\n",
    "\n",
    "fig = px.scatter_3d(df, x='X', y='Y', z='Z', title='3D Scatter Plot')\n",
    "\n",
    "\n",
    "fig.show()\n"
   ]
  },
  {
   "cell_type": "markdown",
   "id": "c61672cc-3fca-41e6-9db8-e0f16d271a9d",
   "metadata": {},
   "source": [
    " 2. Using the Student Grades, create a violin plot to display the distribution of scores across different grade \n",
    "categories.\n",
    " np.random.seed(15) ",
    "\n",
    " data = { ",
    "\n",
    " 'Grade': np.random.choice(['A', 'B', 'C', 'D', 'F'], 200), ",
    "\n",
    " 'Score': np.random.randint(50, 100, 200) ",
    "\n",
    " }\n",
    "  ",
    "\n",
    " df = pd.DataFrame(data\n",
    " Using the sales data, generate a heatmap to visualize the variation in sales across \n",
    "different months and days.\n",
    " np.random.seed(20) ",
    "\n",
    " data = { ",
    "\n",
    " 'Month': np.random.choice(['Jan', 'Feb', 'Mar', 'Apr', 'May'], 100), ",
    "\n",
    " 'Day': np.random.choice(range(1, 31), 100), ",
    "\n",
    " 'Sales': np.random.randint(1000, 5000, 100) ",
    "\n",
    " }\n",
    "  ",
    "\n",
    " df = pd.DataFrame(data)"
   ]
  },
  {
   "cell_type": "code",
   "execution_count": null,
   "id": "2215656f-eb0c-4d2f-a80f-5472e0223744",
   "metadata": {},
   "outputs": [],
   "source": [
    "import numpy as np\n",
    "import pandas as pd\n",
    "import plotly.express as px\n",
    "\n",
    "\n",
    "np.random.seed(15)\n",
    "\n",
    "\n",
    "data_grades = {\n",
    "    'Grade': np.random.choice(['A', 'B', 'C', 'D', 'F'], 200),\n",
    "    'Score': np.random.randint(50, 100, 200)\n",
    "}\n",
    "\n",
    "df_grades = pd.DataFrame(data_grades)\n",
    "\n",
    "\n",
    "fig_violin = px.violin(df_grades, y='Score', x='Grade', box=True, points='all', title='Distribution of Scores Across Grade Categories')\n",
    "\n",
    "\n",
    "fig_violin.show()\n",
    "\n",
    "np.random.seed(20)\n",
    "\n",
    "\n",
    "\n",
    "data_sales = {\n",
    "    'Month': np.random.choice(['Jan', 'Feb', 'Mar', 'Apr', 'May'], 100),\n",
    "    'Day': np.random.choice(range(1, 31), 100),\n",
    "    'Sales': np.random.randint(1000, 5000, 100)\n",
    "}\n",
    "\n",
    "df_sales = pd.DataFrame(data_sales)\n",
    "\n",
    "\n",
    "\n",
    "sales_pivot = df_sales.pivot_table(values='Sales', index='Day', columns='Month', aggfunc='mean')\n",
    "\n",
    "\n",
    "fig_heatmap = px.imshow(sales_pivot, title='Sales Variation Across Months and Days', labels=dict(x='Month', y='Day', color='Sales'))\n",
    "\n",
    "\n",
    "fig_heatmap.show()\n",
    "\n"
   ]
  },
  {
   "cell_type": "markdown",
   "id": "b0b4ba91-5f2c-40a9-94ca-e16f1ffa92ad",
   "metadata": {},
   "source": [
    "3. Using the sales data, generate a heatmap to visualize the variation in sales across different months and \n",
    "days.\n",
    " np.random.seed(20) ",
    "\n",
    " data = { ",
    "\n",
    " 'Month': np.random.choice(['Jan', 'Feb', 'Mar', 'Apr', 'May'], 100), ",
    "\n",
    " 'Day': np.random.choice(range(1, 31), 100), ",
    "\n",
    " 'Sales': np.random.randint(1000, 5000, 100) ",
    "\n",
    " }\n",
    "  ",
    "\n",
    " df = pd.DataFrame(data)"
   ]
  },
  {
   "cell_type": "code",
   "execution_count": null,
   "id": "d2d91d28-5baf-4a87-84f3-573b66f50920",
   "metadata": {},
   "outputs": [],
   "source": [
    "import numpy as np\n",
    "import pandas as pd\n",
    "import plotly.express as px\n",
    "\n",
    "\n",
    "np.random.seed(20)\n",
    "\n",
    "\n",
    "data = {\n",
    "    'Month': np.random.choice(['Jan', 'Feb', 'Mar', 'Apr', 'May'], 100),\n",
    "    'Day': np.random.choice(range(1, 31), 100),\n",
    "    'Sales': np.random.randint(1000, 5000, 100)\n",
    "}\n",
    "\n",
    "df = pd.DataFrame(data)\n",
    "\n",
    "\n",
    "sales_pivot = df.pivot_table(values='Sales', index='Day', columns='Month', aggfunc='mean')\n",
    "\n",
    "\n",
    "fig_heatmap = px.imshow(sales_pivot, title='Sales Variation Across Months and Days',\n",
    "                         labels=dict(x='Month', y='Day', color='Sales'),\n",
    "                         x=sales_pivot.columns, y=sales_pivot.index)\n",
    "\n",
    "t\n",
    "fig_heatmap.show()\n"
   ]
  },
  {
   "cell_type": "markdown",
   "id": "7a1e52a0-c0dd-4215-9fb9-1f967017adba",
   "metadata": {},
   "source": [
    "4. Using the given x and y data, generate a 3D surface plot to visualize the function \n",
    "x = np.linspace(-5, 5, 100) ",
    "\n",
    " y = np.linspace(-5, 5, 100) ",
    "\n",
    " x, y = np.meshgrid(x, y) ",
    "\n",
    " z = np.sin(np.sqrt(x**2 + y**2)) ",
    " ",
    "\n",
    " data = { ",
    "\n",
    " 'X': x.flatten(), ",
    "\n",
    " 'Y': y.flatten(), ",
    "\n",
    " 'Z': z.flatten() ",
    "\n",
    " }\n",
    "  ",
    "\n",
    " df = pd.DataFrame(data)"
   ]
  },
  {
   "cell_type": "code",
   "execution_count": null,
   "id": "10773481-ace0-416c-a77e-708fc82d35c3",
   "metadata": {},
   "outputs": [],
   "source": [
    "import numpy as np\n",
    "import pandas as pd\n",
    "import plotly.graph_objects as go\n",
    "\n",
    "\n",
    "x = np.linspace(-5, 5, 100)\n",
    "y = np.linspace(-5, 5, 100)\n",
    "x, y = np.meshgrid(x, y)\n",
    "z = np.sin(np.sqrt(x**2 + y**2))\n",
    "\n",
    "\n",
    "data = {\n",
    "    'X': x.flatten(),\n",
    "    'Y': y.flatten(),\n",
    "    'Z': z.flatten()\n",
    "}\n",
    "df = pd.DataFrame(data)\n",
    "\n",
    "\n",
    "fig_surface = go.Figure(data=[go.Surface(z=df['Z'].values.reshape(100, 100), \n",
    "                                           x=df['X'].values.reshape(100, 100), \n",
    "                                           y=df['Y'].values.reshape(100, 100))])\n",
    "\n",
    "\n",
    "fig_surface.update_layout(title='3D Surface Plot of z = sin(sqrt(x^2 + y^2))',\n",
    "                           scene=dict(xaxis_title='X Axis',\n",
    "                                      yaxis_title='Y Axis',\n",
    "                                      zaxis_title='Z Axis'))\n",
    "\n",
    "\n",
    "\n",
    "fig_surface.show()\n"
   ]
  },
  {
   "cell_type": "markdown",
   "id": "9ff9f445-d954-4605-a97f-18878a27fbd8",
   "metadata": {},
   "source": [
    " 5. Using the given dataset, create a bubble chart to represent each country's population (y-axis), GDP (x\n",
    "axis), and bubble size proportional to the population.\n",
    " np.random.seed(25) ",
    "\n",
    " data = { ",
    "\n",
    " 'Country': ['USA', 'Canada', 'UK', \n",
    "'Germany', 'France'], ",
    "\n",
    " 'Population': \n",
    "np.random.randint(100, 1000, 5), ",
    "\n",
    " 'GDP': np.random.randint(500, 2000, \n",
    "5) ",
    "\n",
    " }\n",
    "  ",
    "\n",
    " df = pd.DataFrame(data)"
   ]
  },
  {
   "cell_type": "code",
   "execution_count": null,
   "id": "8ad01c46-6de5-4aac-b1bd-a2a3bb8471cc",
   "metadata": {},
   "outputs": [],
   "source": [
    "import numpy as np\n",
    "import pandas as pd\n",
    "import plotly.express as px\n",
    "\n",
    "\n",
    "np.random.seed(25)\n",
    "\n",
    "\n",
    "data = {\n",
    "    'Country': ['USA', 'Canada', 'UK', 'Germany', 'France'],\n",
    "    'Population': np.random.randint(100, 1000, 5),\n",
    "    'GDP': np.random.randint(500, 2000, 5)\n",
    "}\n",
    "\n",
    "df = pd.DataFrame(data)\n",
    "\n",
    "\n",
    "fig_bubble = px.scatter(df, x='GDP', y='Population', \n",
    "                         size='Population', \n",
    "                         hover_name='Country',\n",
    "                         title='Bubble Chart of Countries by Population and GDP',\n",
    "                         labels={'GDP': 'GDP (in billions)', 'Population': 'Population (in millions)'})\n",
    "\n",
    "\n",
    "fig_bubble.show()\n"
   ]
  },
  {
   "cell_type": "markdown",
   "id": "1dc83254-7ea8-4a1e-bd9b-810b9dff77db",
   "metadata": {},
   "source": [
    "                                                        BOKEH"
   ]
  },
  {
   "cell_type": "markdown",
   "id": "8cfe21b9-35c9-4091-994b-e4d6b20b133d",
   "metadata": {},
   "source": [
    " 1.Create a Bokeh plot displaying a sine wave. Set x-values from 0 to 10 and y-values as the sine of x."
   ]
  },
  {
   "cell_type": "code",
   "execution_count": null,
   "id": "5b54cc8c-7590-40cc-8c22-e6b9ae5c24f2",
   "metadata": {},
   "outputs": [],
   "source": [
    "import numpy as np\n",
    "from bokeh.plotting import figure, show, output_file\n",
    "\n",
    "\n",
    "x = np.linspace(0, 10, 100)\n",
    "y = np.sin(x)\n",
    "\n",
    "\n",
    "output_file(\"sine_wave.html\")\n",
    "\n",
    "\n",
    "p = figure(title=\"Sine Wave\", x_axis_label='X', y_axis_label='sin(X)', \n",
    "           width=800, height=400)\n",
    "\n",
    "\n",
    "p.line(x, y, line_width=2, color='blue', legend_label='sin(x)')\n",
    "\n",
    "\n",
    "show(p)\n"
   ]
  },
  {
   "cell_type": "markdown",
   "id": "65521df2-a5f7-43ab-8210-85444b1c5ab5",
   "metadata": {},
   "source": [
    " 2.Create a Bokeh scatter plot using randomly generated x and y values. Use different sizes and colors for the \n",
    "markers based on the 'sizes' and 'colors' columns."
   ]
  },
  {
   "cell_type": "code",
   "execution_count": null,
   "id": "48a66936-1660-403d-b257-64371c317a21",
   "metadata": {},
   "outputs": [],
   "source": [
    "import numpy as np\n",
    "import pandas as pd\n",
    "from bokeh.plotting import figure, show, output_file\n",
    "\n",
    "\n",
    "np.random.seed(42)\n",
    "n = 100\n",
    "x = np.random.rand(n) * 100  \n",
    "y = np.random.rand(n) * 100  \n",
    "sizes = np.random.randint(5, 50, size=n)  \n",
    "colors = np.random.choice(['red', 'green', 'blue', 'orange', 'purple'], size=n)  \n",
    "\n",
    "\n",
    "data = pd.DataFrame({'x': x, 'y': y, 'sizes': sizes, 'colors': colors})\n",
    "\n",
    "\n",
    "output_file(\"scatter_plot.html\")\n",
    "\n",
    "\n",
    "p = figure(title=\"Random Scatter Plot\", x_axis_label='X', y_axis_label='Y', \n",
    "           width=800, height=400)\n",
    "\n",
    "\n",
    "p.scatter(x='x', y='y', size='sizes', color='colors', source=data, legend_field='colors')\n",
    "\n",
    "\n",
    "show(p)\n"
   ]
  },
  {
   "cell_type": "markdown",
   "id": "1161ccdf-c1de-40ee-95a5-d9bd4b39218d",
   "metadata": {},
   "source": [
    " 3. Generate a Bokeh bar chart representing the counts of different fruits using the following dataset.\n",
    " fruits = ['Apples', 'Oranges', 'Bananas', 'Pears'] ",
    "\n",
    " counts = [20, 25, 30, 35]"
   ]
  },
  {
   "cell_type": "code",
   "execution_count": null,
   "id": "1acd60bd-c808-43f6-8620-b711a798986c",
   "metadata": {},
   "outputs": [],
   "source": [
    "from bokeh.plotting import figure, show, output_file\n",
    "\n",
    "\n",
    "fruits = ['Apples', 'Oranges', 'Bananas', 'Pears']\n",
    "counts = [20, 25, 30, 35]\n",
    "\n",
    "\n",
    "\n",
    "\n",
    "\n",
    "p = figure(x_range=fruits, title=\"Fruit Counts\", x_axis_label='Fruits', y_axis_label='Counts', \n",
    "           width=800, height=400)\n",
    "\n",
    "\n",
    "p.vbar(x=fruits, top=counts, width=0.2)\n",
    "\n",
    "\n",
    "show(p)\n"
   ]
  },
  {
   "cell_type": "markdown",
   "id": "dd687b48-cea4-43ad-8640-2b12ba0cd97d",
   "metadata": {},
   "source": [
    " 4. Create a Bokeh histogram to visualize the distribution of the given data.\n",
    " data_hist = np.random.randn(1000) ",
    "\n",
    " hist, edges = np.histogram(data_hist, bins=30)"
   ]
  },
  {
   "cell_type": "code",
   "execution_count": null,
   "id": "ae856c79-b181-422a-90dd-eb51927b37d9",
   "metadata": {},
   "outputs": [],
   "source": [
    "import numpy as np\n",
    "from bokeh.plotting import figure, show, output_file\n",
    "\n",
    "\n",
    "data_hist = np.random.randn(1000)\n",
    "\n",
    "\n",
    "hist, edges = np.histogram(data_hist, bins=30)\n",
    "\n",
    "\n",
    "output_file(\"histogram.html\")\n",
    "\n",
    "\n",
    "p = figure(title=\"Histogram of Random Data\", x_axis_label='Value', y_axis_label='Count', \n",
    "           width=800, height=400)\n",
    "\n",
    "\n",
    "p.quad(top=hist, bottom=0, left=edges[:-1], right=edges[1:], fill_color='red', line_color='black')\n",
    "\n",
    "\n",
    "show(p)\n"
   ]
  },
  {
   "cell_type": "code",
   "execution_count": null,
   "id": "1c15e4c4-afcf-4942-a878-d41d65289275",
   "metadata": {},
   "outputs": [],
   "source": []
  }
 ],
 "metadata": {
  "kernelspec": {
   "display_name": "Python 3 (ipykernel)",
   "language": "python",
   "name": "python3"
  },
  "language_info": {
   "codemirror_mode": {
    "name": "ipython",
    "version": 3
   },
   "file_extension": ".py",
   "mimetype": "text/x-python",
   "name": "python",
   "nbconvert_exporter": "python",
   "pygments_lexer": "ipython3",
   "version": "3.11.7"
  }
 },
 "nbformat": 4,
 "nbformat_minor": 5
}
